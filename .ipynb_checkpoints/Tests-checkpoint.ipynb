{
 "cells": [
  {
   "cell_type": "code",
   "execution_count": 3,
   "id": "59b636eb-2c79-49a6-b248-5a7557b07774",
   "metadata": {},
   "outputs": [],
   "source": [
    "import pandas as pd\n",
    "import numpy as np\n",
    "import seaborn as sns\n",
    "import matplotlib.pyplot as plt\n",
    "import os\n",
    "from pathlib import Path"
   ]
  },
  {
   "cell_type": "code",
   "execution_count": 44,
   "id": "32cac0c2-0185-43e6-83c3-70c85004af9b",
   "metadata": {},
   "outputs": [],
   "source": [
    "DATA_PATH = \"./data/\"\n",
    "HISTORY_PATH = \"history/\"\n",
    "history_txt = \"Super Dummy text\"\n",
    "filename = \"{}_prompt_history.txt\".format(\"Avinash_Akella\")\n",
    "history_path = os.path.join(DATA_PATH, HISTORY_PATH)\n",
    "file_path = os.path.join(history_path, filename)\n",
    "\n",
    "if not os.path.exists(history_path):\n",
    "    os.makedirs(history_path)\n",
    "try:\n",
    "    with open(file_path, \"w\") as file:\n",
    "        file.write(history_txt)\n",
    "        file.close()\n",
    "except:\n",
    "    print(\"Failed saving user prompt history to file.\")"
   ]
  },
  {
   "cell_type": "code",
   "execution_count": 39,
   "id": "7a72ecbc-f2db-41de-9542-c39b4875a998",
   "metadata": {},
   "outputs": [],
   "source": [
    "import time\n",
    "\n",
    "old_filename = \"{}_prompt_history.txt\".format(\"Avinash_Akella\")\n",
    "history_path = os.path.join(DATA_PATH, HISTORY_PATH)\n",
    "old_filepath = os.path.join(history_path, old_filename)\n",
    "history_file = Path(old_filepath)\n",
    "if history_file.exists():\n",
    "    try:\n",
    "        timestamp = int(time.time())\n",
    "        new_filename = \"{0}_prompt_history_{1}.txt\".format(\"Avinash_Akella\", str(timestamp))\n",
    "        new_filepath = os.path.join(history_path, new_filename)\n",
    "        os.rename(old_filepath, new_filepath)\n",
    "    except:\n",
    "        print(\"Failed renaming previous prompt history file. New prompt history may override old one.\")\n",
    "else:\n",
    "    print(\"User previous history file doesn't exist. Skipping any action.\")"
   ]
  },
  {
   "cell_type": "code",
   "execution_count": null,
   "id": "daffd99c-f3a4-4f1c-ad5a-e8f82e5545d5",
   "metadata": {},
   "outputs": [],
   "source": [
    "- Fetch valid usernames\n",
    "- Write code for preparing the prompt"
   ]
  }
 ],
 "metadata": {
  "kernelspec": {
   "display_name": "Python 3 (ipykernel)",
   "language": "python",
   "name": "python3"
  },
  "language_info": {
   "codemirror_mode": {
    "name": "ipython",
    "version": 3
   },
   "file_extension": ".py",
   "mimetype": "text/x-python",
   "name": "python",
   "nbconvert_exporter": "python",
   "pygments_lexer": "ipython3",
   "version": "3.10.11"
  }
 },
 "nbformat": 4,
 "nbformat_minor": 5
}
